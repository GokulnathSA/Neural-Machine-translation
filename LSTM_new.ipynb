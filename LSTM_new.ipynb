{
  "nbformat": 4,
  "nbformat_minor": 0,
  "metadata": {
    "colab": {
      "name": "LSTM_new.ipynb",
      "provenance": [],
      "collapsed_sections": []
    },
    "kernelspec": {
      "name": "python3",
      "display_name": "Python 3"
    },
    "language_info": {
      "name": "python"
    },
    "accelerator": "GPU"
  },
  "cells": [
    {
      "cell_type": "code",
      "metadata": {
        "id": "YjXf31DtXCH5"
      },
      "source": [
        "import tensorflow as tf\n",
        "import matplotlib.pyplot as plt\n",
        "import numpy as np\n",
        "from tensorflow.keras.models import Model\n",
        "from tensorflow.keras.layers import Input, LSTM, Dense\n"
      ],
      "execution_count": 1,
      "outputs": []
    },
    {
      "cell_type": "code",
      "metadata": {
        "id": "40OyStnzXH5W"
      },
      "source": [
        "batch_size = 64\n",
        "epochs = 50\n",
        "latent_dim = 256\n",
        "num_samples = 10000"
      ],
      "execution_count": 2,
      "outputs": []
    },
    {
      "cell_type": "code",
      "metadata": {
        "colab": {
          "base_uri": "https://localhost:8080/"
        },
        "id": "opVgV5U1XWaN",
        "outputId": "593000a0-f340-453e-a84a-80dbacb3abde"
      },
      "source": [
        "from google.colab import drive\n",
        "drive.mount('/content/drive/')"
      ],
      "execution_count": 3,
      "outputs": [
        {
          "output_type": "stream",
          "name": "stdout",
          "text": [
            "Mounted at /content/drive/\n"
          ]
        }
      ]
    },
    {
      "cell_type": "code",
      "metadata": {
        "id": "nsvIZvO_XJa7"
      },
      "source": [
        "with open(\"/content/drive/MyDrive/project/NMT/fre/fra.txt\", 'r', encoding='utf-8') as f:\n",
        "  lines = f.read().split('\\n')"
      ],
      "execution_count": 4,
      "outputs": []
    },
    {
      "cell_type": "code",
      "metadata": {
        "id": "XtnAGw9_XLiA"
      },
      "source": [
        "input_texts = []\n",
        "target_texts = []\n",
        "input_characters = set()\n",
        "target_characters = set()\n",
        "for line in lines[: min(num_samples, len(lines) - 1)]:\n",
        "  input_text, target_text, _ = line.split('\\t')\n",
        "  target_text = '\\t' + target_text + '\\n'\n",
        "  input_texts.append(input_text)\n",
        "  target_texts.append(target_text)\n",
        "  for char in input_text:\n",
        "    if char not in input_characters:\n",
        "      input_characters.add(char)\n",
        "  for char in target_text:\n",
        "    if char not in target_characters:\n",
        "      target_characters.add(char)"
      ],
      "execution_count": 5,
      "outputs": []
    },
    {
      "cell_type": "code",
      "metadata": {
        "colab": {
          "base_uri": "https://localhost:8080/",
          "height": 35
        },
        "id": "iavAr9PYXfKd",
        "outputId": "c33d9d20-6005-4f8e-93e4-98c1b1e1cb0c"
      },
      "source": [
        "input_texts[1]"
      ],
      "execution_count": 6,
      "outputs": [
        {
          "output_type": "execute_result",
          "data": {
            "application/vnd.google.colaboratory.intrinsic+json": {
              "type": "string"
            },
            "text/plain": [
              "'Go.'"
            ]
          },
          "metadata": {},
          "execution_count": 6
        }
      ]
    },
    {
      "cell_type": "code",
      "metadata": {
        "colab": {
          "base_uri": "https://localhost:8080/",
          "height": 35
        },
        "id": "9JM9polgXr4T",
        "outputId": "4172b174-2053-4ad4-b2c9-df621e01f71e"
      },
      "source": [
        "target_texts[1]"
      ],
      "execution_count": 7,
      "outputs": [
        {
          "output_type": "execute_result",
          "data": {
            "application/vnd.google.colaboratory.intrinsic+json": {
              "type": "string"
            },
            "text/plain": [
              "'\\tMarche.\\n'"
            ]
          },
          "metadata": {},
          "execution_count": 7
        }
      ]
    },
    {
      "cell_type": "code",
      "metadata": {
        "id": "gDlDuURLYBX2"
      },
      "source": [
        "input_characters = sorted(list(input_characters))\n",
        "target_characters = sorted(list(target_characters))\n",
        "num_encoder_tokens = len(input_characters)\n",
        "num_decoder_tokens = len(target_characters)\n",
        "max_encoder_seq_length = max([len(txt) for txt in input_texts ])\n",
        "max_decoder_seq_length = max([len(txt) for txt in target_texts ])"
      ],
      "execution_count": 8,
      "outputs": []
    },
    {
      "cell_type": "code",
      "metadata": {
        "id": "JlUnZ-YbYDtX"
      },
      "source": [
        "input_token_index = dict([(char,i) for i, char in enumerate(input_characters)])\n",
        "target_token_index = dict([(char,i) for i, char in enumerate(target_characters)])"
      ],
      "execution_count": 9,
      "outputs": []
    },
    {
      "cell_type": "code",
      "metadata": {
        "id": "Mk3HS_x0YNZI"
      },
      "source": [
        "from sklearn.model_selection import train_test_split"
      ],
      "execution_count": 10,
      "outputs": []
    },
    {
      "cell_type": "code",
      "metadata": {
        "id": "LoXho_AtYOlT"
      },
      "source": [
        "train_text, test_text, train_labels, test_labels = train_test_split(input_texts, target_texts, \n",
        "                                                                    random_state=2018, \n",
        "                                                                    test_size=0.3, \n",
        "                                                                    )"
      ],
      "execution_count": 11,
      "outputs": []
    },
    {
      "cell_type": "code",
      "metadata": {
        "colab": {
          "base_uri": "https://localhost:8080/",
          "height": 35
        },
        "id": "80BhBkRNYpwP",
        "outputId": "e1eb2648-389c-4d50-bdd7-9d156d57f059"
      },
      "source": [
        "train_text[1]"
      ],
      "execution_count": 12,
      "outputs": [
        {
          "output_type": "execute_result",
          "data": {
            "application/vnd.google.colaboratory.intrinsic+json": {
              "type": "string"
            },
            "text/plain": [
              "'He is in Tokyo.'"
            ]
          },
          "metadata": {},
          "execution_count": 12
        }
      ]
    },
    {
      "cell_type": "code",
      "metadata": {
        "colab": {
          "base_uri": "https://localhost:8080/",
          "height": 35
        },
        "id": "fPyfTNK6YwOf",
        "outputId": "e26c7894-1dd4-4184-c63d-73d993cd8ebe"
      },
      "source": [
        "train_labels[1]"
      ],
      "execution_count": 13,
      "outputs": [
        {
          "output_type": "execute_result",
          "data": {
            "application/vnd.google.colaboratory.intrinsic+json": {
              "type": "string"
            },
            "text/plain": [
              "'\\tIl est à Tokyo.\\n'"
            ]
          },
          "metadata": {},
          "execution_count": 13
        }
      ]
    },
    {
      "cell_type": "code",
      "metadata": {
        "colab": {
          "base_uri": "https://localhost:8080/",
          "height": 35
        },
        "id": "aJdxs-hZY1V6",
        "outputId": "23e1d0b5-dd1a-4286-94d7-7938e07c22f9"
      },
      "source": [
        "test_text[1]"
      ],
      "execution_count": 14,
      "outputs": [
        {
          "output_type": "execute_result",
          "data": {
            "application/vnd.google.colaboratory.intrinsic+json": {
              "type": "string"
            },
            "text/plain": [
              "'I shouted.'"
            ]
          },
          "metadata": {},
          "execution_count": 14
        }
      ]
    },
    {
      "cell_type": "code",
      "metadata": {
        "colab": {
          "base_uri": "https://localhost:8080/",
          "height": 35
        },
        "id": "ZlRisuWtY5kt",
        "outputId": "7876842a-752c-45aa-cec5-d6ecc81675f1"
      },
      "source": [
        "test_labels[1]"
      ],
      "execution_count": 15,
      "outputs": [
        {
          "output_type": "execute_result",
          "data": {
            "application/vnd.google.colaboratory.intrinsic+json": {
              "type": "string"
            },
            "text/plain": [
              "\"\\tJ'ai crié.\\n\""
            ]
          },
          "metadata": {},
          "execution_count": 15
        }
      ]
    },
    {
      "cell_type": "code",
      "metadata": {
        "id": "zVc_yQgMZflR"
      },
      "source": [
        "encoder_input_data_train = np.zeros((len(train_text),max_encoder_seq_length,num_encoder_tokens), dtype='float32')\n",
        "decoder_input_data_train = np.zeros((len(train_text),max_decoder_seq_length,num_decoder_tokens), dtype='float32')\n",
        "decoder_target_data_train = np.zeros((len(train_text),max_decoder_seq_length,num_decoder_tokens), dtype='float32')"
      ],
      "execution_count": 16,
      "outputs": []
    },
    {
      "cell_type": "code",
      "metadata": {
        "id": "eEc-7HyFaBO4"
      },
      "source": [
        "for i, (input_text, target_text) in enumerate(zip(train_text, train_labels)):\n",
        "  for t, char in enumerate(input_text):\n",
        "    encoder_input_data_train[i,t,input_token_index[char]]=1.\n",
        "  encoder_input_data_train[i, t+1:, input_token_index[' ']] = 1.\n",
        "  for t,char in enumerate(target_text):\n",
        "    decoder_input_data_train[i, t, target_token_index[char]] = 1.\n",
        "    if t>0:\n",
        "      decoder_target_data_train[i,t-1, target_token_index[char]] = 1.\n",
        "  decoder_input_data_train[i,t+1:, target_token_index[' ']] = 1.\n",
        "  decoder_target_data_train[i, t:, target_token_index[' ']] = 1."
      ],
      "execution_count": 17,
      "outputs": []
    },
    {
      "cell_type": "code",
      "metadata": {
        "colab": {
          "base_uri": "https://localhost:8080/"
        },
        "id": "Pixv56o7aosT",
        "outputId": "638acb37-bbe0-494e-cde2-9beb55e2039b"
      },
      "source": [
        "encoder_input_data_train[0].shape"
      ],
      "execution_count": 18,
      "outputs": [
        {
          "output_type": "execute_result",
          "data": {
            "text/plain": [
              "(15, 71)"
            ]
          },
          "metadata": {},
          "execution_count": 18
        }
      ]
    },
    {
      "cell_type": "code",
      "metadata": {
        "id": "HLhZnoPcZRCm"
      },
      "source": [
        "encoder_input_data_test = np.zeros((len(test_text),max_encoder_seq_length,num_encoder_tokens), dtype='float32')\n",
        "decoder_input_data_test = np.zeros((len(test_text),max_decoder_seq_length,num_decoder_tokens), dtype='float32')\n",
        "decoder_target_data_test = np.zeros((len(test_text),max_decoder_seq_length,num_decoder_tokens), dtype='float32')"
      ],
      "execution_count": 19,
      "outputs": []
    },
    {
      "cell_type": "code",
      "metadata": {
        "id": "4fB6R2zLa1vc"
      },
      "source": [
        "for i, (input_text, target_text) in enumerate(zip(test_text, test_labels)):\n",
        "  for t, char in enumerate(input_text):\n",
        "    encoder_input_data_test[i,t,input_token_index[char]]=1.\n",
        "  encoder_input_data_test[i, t+1:, input_token_index[' ']] = 1.\n",
        "  for t,char in enumerate(target_text):\n",
        "    decoder_input_data_test[i, t, target_token_index[char]] = 1.\n",
        "    if t>0:\n",
        "      decoder_target_data_test[i,t-1, target_token_index[char]] = 1.\n",
        "  decoder_input_data_test[i,t+1:, target_token_index[' ']] = 1.\n",
        "  decoder_target_data_test[i, t:, target_token_index[' ']] = 1."
      ],
      "execution_count": 20,
      "outputs": []
    },
    {
      "cell_type": "code",
      "metadata": {
        "colab": {
          "base_uri": "https://localhost:8080/"
        },
        "id": "RcSBTHtvbL_7",
        "outputId": "038add7f-e243-47ef-8f52-1fa8ee4aaef9"
      },
      "source": [
        "encoder_input_data_test[0].shape"
      ],
      "execution_count": 21,
      "outputs": [
        {
          "output_type": "execute_result",
          "data": {
            "text/plain": [
              "(15, 71)"
            ]
          },
          "metadata": {},
          "execution_count": 21
        }
      ]
    },
    {
      "cell_type": "code",
      "metadata": {
        "id": "C6NXITT1bPI5"
      },
      "source": [
        "encoder_inputs = Input(shape=(None, num_encoder_tokens))\n",
        "encoder = LSTM(latent_dim, return_state = True)\n",
        "encoder_outputs, state_h, state_c = encoder(encoder_inputs)\n",
        "encoder_states = [state_h, state_c]"
      ],
      "execution_count": 22,
      "outputs": []
    },
    {
      "cell_type": "code",
      "metadata": {
        "id": "mnTfuBQebWie"
      },
      "source": [
        "decoder_inputs = Input(shape=(None, num_decoder_tokens))\n",
        "decoder_lstm = LSTM(latent_dim, return_sequences=True, return_state=True)\n",
        "decoder_outputs, _, _ = decoder_lstm(decoder_inputs, initial_state = encoder_states)\n",
        "decoder_dense = Dense(num_decoder_tokens, activation = 'softmax')\n",
        "decoder_outputs = decoder_dense(decoder_outputs)\n"
      ],
      "execution_count": 23,
      "outputs": []
    },
    {
      "cell_type": "code",
      "metadata": {
        "colab": {
          "base_uri": "https://localhost:8080/"
        },
        "id": "7q2nu7ZsbarJ",
        "outputId": "4a7233f3-2670-4ab0-ad28-463bdea00d45"
      },
      "source": [
        "model = Model([encoder_inputs, decoder_inputs], decoder_outputs)\n",
        "model.compile(optimizer= 'adam', loss = 'categorical_crossentropy', metrics=['accuracy'])\n",
        "model.fit([encoder_input_data_train, decoder_input_data_train], decoder_target_data_train, batch_size = batch_size, epochs= epochs, validation_split = 0.2)"
      ],
      "execution_count": 24,
      "outputs": [
        {
          "output_type": "stream",
          "name": "stdout",
          "text": [
            "Epoch 1/50\n",
            "88/88 [==============================] - 12s 46ms/step - loss: 1.4550 - accuracy: 0.7193 - val_loss: 1.0459 - val_accuracy: 0.7263\n",
            "Epoch 2/50\n",
            "88/88 [==============================] - 3s 33ms/step - loss: 0.9631 - accuracy: 0.7382 - val_loss: 0.9040 - val_accuracy: 0.7409\n",
            "Epoch 3/50\n",
            "88/88 [==============================] - 3s 33ms/step - loss: 0.8542 - accuracy: 0.7641 - val_loss: 0.8125 - val_accuracy: 0.7784\n",
            "Epoch 4/50\n",
            "88/88 [==============================] - 3s 32ms/step - loss: 0.7620 - accuracy: 0.7941 - val_loss: 0.7225 - val_accuracy: 0.8048\n",
            "Epoch 5/50\n",
            "88/88 [==============================] - 3s 33ms/step - loss: 0.6791 - accuracy: 0.8117 - val_loss: 0.6513 - val_accuracy: 0.8175\n",
            "Epoch 6/50\n",
            "88/88 [==============================] - 3s 33ms/step - loss: 0.6208 - accuracy: 0.8241 - val_loss: 0.6071 - val_accuracy: 0.8262\n",
            "Epoch 7/50\n",
            "88/88 [==============================] - 3s 33ms/step - loss: 0.5829 - accuracy: 0.8328 - val_loss: 0.5751 - val_accuracy: 0.8351\n",
            "Epoch 8/50\n",
            "88/88 [==============================] - 3s 33ms/step - loss: 0.5542 - accuracy: 0.8407 - val_loss: 0.5519 - val_accuracy: 0.8397\n",
            "Epoch 9/50\n",
            "88/88 [==============================] - 3s 33ms/step - loss: 0.5325 - accuracy: 0.8457 - val_loss: 0.5314 - val_accuracy: 0.8453\n",
            "Epoch 10/50\n",
            "88/88 [==============================] - 3s 33ms/step - loss: 0.5132 - accuracy: 0.8505 - val_loss: 0.5185 - val_accuracy: 0.8484\n",
            "Epoch 11/50\n",
            "88/88 [==============================] - 3s 33ms/step - loss: 0.4980 - accuracy: 0.8547 - val_loss: 0.5038 - val_accuracy: 0.8521\n",
            "Epoch 12/50\n",
            "88/88 [==============================] - 3s 32ms/step - loss: 0.4851 - accuracy: 0.8579 - val_loss: 0.4951 - val_accuracy: 0.8549\n",
            "Epoch 13/50\n",
            "88/88 [==============================] - 3s 32ms/step - loss: 0.4730 - accuracy: 0.8613 - val_loss: 0.4849 - val_accuracy: 0.8572\n",
            "Epoch 14/50\n",
            "88/88 [==============================] - 3s 33ms/step - loss: 0.4618 - accuracy: 0.8641 - val_loss: 0.4749 - val_accuracy: 0.8595\n",
            "Epoch 15/50\n",
            "88/88 [==============================] - 3s 33ms/step - loss: 0.4509 - accuracy: 0.8664 - val_loss: 0.4674 - val_accuracy: 0.8608\n",
            "Epoch 16/50\n",
            "88/88 [==============================] - 3s 33ms/step - loss: 0.4414 - accuracy: 0.8694 - val_loss: 0.4577 - val_accuracy: 0.8635\n",
            "Epoch 17/50\n",
            "88/88 [==============================] - 3s 34ms/step - loss: 0.4323 - accuracy: 0.8719 - val_loss: 0.4501 - val_accuracy: 0.8659\n",
            "Epoch 18/50\n",
            "88/88 [==============================] - 3s 33ms/step - loss: 0.4230 - accuracy: 0.8746 - val_loss: 0.4447 - val_accuracy: 0.8684\n",
            "Epoch 19/50\n",
            "88/88 [==============================] - 3s 33ms/step - loss: 0.4194 - accuracy: 0.8751 - val_loss: 0.4389 - val_accuracy: 0.8689\n",
            "Epoch 20/50\n",
            "88/88 [==============================] - 3s 33ms/step - loss: 0.4066 - accuracy: 0.8789 - val_loss: 0.4355 - val_accuracy: 0.8699\n",
            "Epoch 21/50\n",
            "88/88 [==============================] - 3s 33ms/step - loss: 0.3988 - accuracy: 0.8809 - val_loss: 0.4298 - val_accuracy: 0.8732\n",
            "Epoch 22/50\n",
            "88/88 [==============================] - 3s 34ms/step - loss: 0.3914 - accuracy: 0.8830 - val_loss: 0.4222 - val_accuracy: 0.8744\n",
            "Epoch 23/50\n",
            "88/88 [==============================] - 3s 33ms/step - loss: 0.3839 - accuracy: 0.8855 - val_loss: 0.4181 - val_accuracy: 0.8758\n",
            "Epoch 24/50\n",
            "88/88 [==============================] - 3s 33ms/step - loss: 0.3768 - accuracy: 0.8870 - val_loss: 0.4145 - val_accuracy: 0.8763\n",
            "Epoch 25/50\n",
            "88/88 [==============================] - 3s 33ms/step - loss: 0.4614 - accuracy: 0.8756 - val_loss: 0.8759 - val_accuracy: 0.7943\n",
            "Epoch 26/50\n",
            "88/88 [==============================] - 3s 32ms/step - loss: 0.5466 - accuracy: 0.8409 - val_loss: 0.4792 - val_accuracy: 0.8573\n",
            "Epoch 27/50\n",
            "88/88 [==============================] - 3s 33ms/step - loss: 0.4415 - accuracy: 0.8683 - val_loss: 0.4462 - val_accuracy: 0.8671\n",
            "Epoch 28/50\n",
            "88/88 [==============================] - 3s 33ms/step - loss: 0.4152 - accuracy: 0.8760 - val_loss: 0.4328 - val_accuracy: 0.8711\n",
            "Epoch 29/50\n",
            "88/88 [==============================] - 3s 33ms/step - loss: 0.4007 - accuracy: 0.8802 - val_loss: 0.4265 - val_accuracy: 0.8728\n",
            "Epoch 30/50\n",
            "88/88 [==============================] - 3s 33ms/step - loss: 0.3897 - accuracy: 0.8836 - val_loss: 0.4194 - val_accuracy: 0.8750\n",
            "Epoch 31/50\n",
            "88/88 [==============================] - 3s 33ms/step - loss: 0.3810 - accuracy: 0.8861 - val_loss: 0.4161 - val_accuracy: 0.8759\n",
            "Epoch 32/50\n",
            "88/88 [==============================] - 3s 33ms/step - loss: 0.3734 - accuracy: 0.8882 - val_loss: 0.4105 - val_accuracy: 0.8772\n",
            "Epoch 33/50\n",
            "88/88 [==============================] - 3s 33ms/step - loss: 0.3673 - accuracy: 0.8900 - val_loss: 0.4065 - val_accuracy: 0.8794\n",
            "Epoch 34/50\n",
            "88/88 [==============================] - 3s 33ms/step - loss: 0.3623 - accuracy: 0.8915 - val_loss: 0.4017 - val_accuracy: 0.8799\n",
            "Epoch 35/50\n",
            "88/88 [==============================] - 3s 33ms/step - loss: 0.3560 - accuracy: 0.8930 - val_loss: 0.3989 - val_accuracy: 0.8815\n",
            "Epoch 36/50\n",
            "88/88 [==============================] - 3s 33ms/step - loss: 0.3504 - accuracy: 0.8949 - val_loss: 0.3968 - val_accuracy: 0.8817\n",
            "Epoch 37/50\n",
            "88/88 [==============================] - 3s 33ms/step - loss: 0.3456 - accuracy: 0.8963 - val_loss: 0.3936 - val_accuracy: 0.8833\n",
            "Epoch 38/50\n",
            "88/88 [==============================] - 3s 33ms/step - loss: 0.3406 - accuracy: 0.8978 - val_loss: 0.3925 - val_accuracy: 0.8830\n",
            "Epoch 39/50\n",
            "88/88 [==============================] - 3s 33ms/step - loss: 0.3359 - accuracy: 0.8989 - val_loss: 0.3906 - val_accuracy: 0.8841\n",
            "Epoch 40/50\n",
            "88/88 [==============================] - 3s 33ms/step - loss: 0.3311 - accuracy: 0.9005 - val_loss: 0.3888 - val_accuracy: 0.8851\n",
            "Epoch 41/50\n",
            "88/88 [==============================] - 3s 33ms/step - loss: 0.3257 - accuracy: 0.9022 - val_loss: 0.3849 - val_accuracy: 0.8855\n",
            "Epoch 42/50\n",
            "88/88 [==============================] - 3s 33ms/step - loss: 0.3215 - accuracy: 0.9035 - val_loss: 0.3866 - val_accuracy: 0.8861\n",
            "Epoch 43/50\n",
            "88/88 [==============================] - 3s 32ms/step - loss: 0.3172 - accuracy: 0.9048 - val_loss: 0.3824 - val_accuracy: 0.8856\n",
            "Epoch 44/50\n",
            "88/88 [==============================] - 3s 32ms/step - loss: 0.3123 - accuracy: 0.9063 - val_loss: 0.3810 - val_accuracy: 0.8871\n",
            "Epoch 45/50\n",
            "88/88 [==============================] - 3s 33ms/step - loss: 0.3075 - accuracy: 0.9075 - val_loss: 0.3796 - val_accuracy: 0.8882\n",
            "Epoch 46/50\n",
            "88/88 [==============================] - 3s 33ms/step - loss: 0.3026 - accuracy: 0.9088 - val_loss: 0.3784 - val_accuracy: 0.8884\n",
            "Epoch 47/50\n",
            "88/88 [==============================] - 3s 33ms/step - loss: 0.2982 - accuracy: 0.9105 - val_loss: 0.3760 - val_accuracy: 0.8894\n",
            "Epoch 48/50\n",
            "88/88 [==============================] - 3s 33ms/step - loss: 0.2929 - accuracy: 0.9120 - val_loss: 0.3751 - val_accuracy: 0.8900\n",
            "Epoch 49/50\n",
            "88/88 [==============================] - 3s 33ms/step - loss: 0.2886 - accuracy: 0.9134 - val_loss: 0.3713 - val_accuracy: 0.8909\n",
            "Epoch 50/50\n",
            "88/88 [==============================] - 3s 33ms/step - loss: 0.2836 - accuracy: 0.9149 - val_loss: 0.3724 - val_accuracy: 0.8899\n"
          ]
        },
        {
          "output_type": "execute_result",
          "data": {
            "text/plain": [
              "<keras.callbacks.History at 0x7f6fc0089e50>"
            ]
          },
          "metadata": {},
          "execution_count": 24
        }
      ]
    },
    {
      "cell_type": "code",
      "metadata": {
        "colab": {
          "base_uri": "https://localhost:8080/"
        },
        "id": "rNEiymB1dA5c",
        "outputId": "ada35c58-2b34-421d-ac7c-252fee0dc874"
      },
      "source": [
        "model.evaluate([encoder_input_data_test, decoder_input_data_test], decoder_target_data_test)"
      ],
      "execution_count": 25,
      "outputs": [
        {
          "output_type": "stream",
          "name": "stdout",
          "text": [
            "94/94 [==============================] - 1s 15ms/step - loss: 0.3626 - accuracy: 0.8941\n"
          ]
        },
        {
          "output_type": "execute_result",
          "data": {
            "text/plain": [
              "[0.36262035369873047, 0.8940847516059875]"
            ]
          },
          "metadata": {},
          "execution_count": 25
        }
      ]
    }
  ]
}